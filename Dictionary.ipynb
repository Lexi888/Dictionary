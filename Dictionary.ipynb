{
 "cells": [
  {
   "cell_type": "code",
   "execution_count": 1,
   "id": "1f785d4c",
   "metadata": {},
   "outputs": [
    {
     "name": "stdout",
     "output_type": "stream",
     "text": [
      "John\n"
     ]
    }
   ],
   "source": [
    "student = {'name':'John','age':25,'courses':['Math','CompSci']} \n",
    "print(student['name'])\n",
    "#{} represent dictionary;\n",
    "#name is the key"
   ]
  },
  {
   "cell_type": "code",
   "execution_count": 2,
   "id": "44f84900",
   "metadata": {},
   "outputs": [
    {
     "name": "stdout",
     "output_type": "stream",
     "text": [
      "Not Found\n"
     ]
    }
   ],
   "source": [
    "#get\n",
    "student = {'name':'John','age':25,'courses':['Math','CompSci']} \n",
    "print(student.get('phone','Not Found'))"
   ]
  },
  {
   "cell_type": "code",
   "execution_count": 3,
   "id": "c349a732",
   "metadata": {},
   "outputs": [
    {
     "name": "stdout",
     "output_type": "stream",
     "text": [
      "{'name': 'Jane', 'age': 25, 'courses': ['Math', 'CompSci'], 'phone': '555-555'}\n"
     ]
    }
   ],
   "source": [
    "#add new key&variable\n",
    "student['phone'] = '555-555'   #Add new key&variable\n",
    "student['name'] = 'Jane'       #Update names\n",
    "print(student)"
   ]
  },
  {
   "cell_type": "code",
   "execution_count": 4,
   "id": "e4a062eb",
   "metadata": {},
   "outputs": [
    {
     "name": "stdout",
     "output_type": "stream",
     "text": [
      "{'name': 'Jane', 'age': '23', 'courses': ['Math', 'CompSci'], 'phone': '555-5555'}\n"
     ]
    }
   ],
   "source": [
    "#Use Update if we want to update multiple infor\n",
    "student.update({'name':'Jane','age':'23','phone':'555-5555'})\n",
    "print(student)"
   ]
  },
  {
   "cell_type": "code",
   "execution_count": 5,
   "id": "88547a26",
   "metadata": {},
   "outputs": [
    {
     "name": "stdout",
     "output_type": "stream",
     "text": [
      "{'teraCoder': 9018293, 'proProgrammer': 119238, 'theLooper': 138475, 'stringQueen': 85739}\n"
     ]
    }
   ],
   "source": [
    "#update\n",
    "user_ids = {\"teraCoder\": 9018293, \"proProgrammer\": 119238}\n",
    "user_ids.update({'theLooper':138475,'stringQueen':85739})\n",
    "print(user_ids)"
   ]
  },
  {
   "cell_type": "code",
   "execution_count": 6,
   "id": "5d692c5a",
   "metadata": {},
   "outputs": [
    {
     "name": "stdout",
     "output_type": "stream",
     "text": [
      "{'oatmeal': 5, 'avocado toast': 6, 'carrot juice': 5, 'blueberry muffin': 2}\n"
     ]
    }
   ],
   "source": [
    "#Overwrite\n",
    "#change the value in the dictionary.\n",
    "menu = {\"oatmeal\": 3, \"avocado toast\": 6, \"carrot juice\": 5, \"blueberry muffin\": 2}\n",
    "menu[\"oatmeal\"] = 5\n",
    "print(menu)"
   ]
  },
  {
   "cell_type": "code",
   "execution_count": 7,
   "id": "cb333b47",
   "metadata": {},
   "outputs": [
    {
     "name": "stdout",
     "output_type": "stream",
     "text": [
      "dict_keys(['name', 'age', 'courses', 'phone'])\n"
     ]
    }
   ],
   "source": [
    "print(student.keys())"
   ]
  },
  {
   "cell_type": "code",
   "execution_count": 8,
   "id": "01b62667",
   "metadata": {},
   "outputs": [
    {
     "name": "stdout",
     "output_type": "stream",
     "text": [
      "dict_values(['Jane', '23', ['Math', 'CompSci'], '555-5555'])\n"
     ]
    }
   ],
   "source": [
    "print(student.values())"
   ]
  },
  {
   "cell_type": "code",
   "execution_count": 9,
   "id": "018b91e9",
   "metadata": {},
   "outputs": [
    {
     "name": "stdout",
     "output_type": "stream",
     "text": [
      "dict_items([('name', 'Jane'), ('age', '23'), ('courses', ['Math', 'CompSci']), ('phone', '555-5555')])\n"
     ]
    }
   ],
   "source": [
    "print(student.items())"
   ]
  },
  {
   "cell_type": "code",
   "execution_count": 10,
   "id": "ed6beb11",
   "metadata": {},
   "outputs": [
    {
     "name": "stdout",
     "output_type": "stream",
     "text": [
      "The last person owned is Jane.\n"
     ]
    }
   ],
   "source": [
    "student = {'name':'Jane','age':25,'courses':['Math','CompSci']} \n",
    "A = student.pop('name')                    #Should be the Key\n",
    "print(f'The last person owned is {A}.')"
   ]
  },
  {
   "cell_type": "code",
   "execution_count": 11,
   "id": "caf91ac6",
   "metadata": {},
   "outputs": [
    {
     "name": "stdout",
     "output_type": "stream",
     "text": [
      "{223842: 'Teddy Bear', 872921: 'Concert Tickets', 320291: 'Gift Basket', 412123: 'Necklace', 298787: 'Pasta Maker'}\n"
     ]
    }
   ],
   "source": [
    "raffle = {223842: \"Teddy Bear\", 872921: \"Concert Tickets\", 320291: \"Gift Basket\", 412123: \"Necklace\", 298787: \"Pasta Maker\"}\n",
    " \n",
    "raffle.pop(561721, \"No Value\")\n",
    "print(raffle)\n",
    "#remove the nonexistent key 561721, so it will remain the same."
   ]
  },
  {
   "cell_type": "code",
   "execution_count": 12,
   "id": "fb9c7411",
   "metadata": {},
   "outputs": [
    {
     "name": "stdout",
     "output_type": "stream",
     "text": [
      "-1\n"
     ]
    }
   ],
   "source": [
    "stuff = dict()\n",
    "print(stuff.get('candy',-1))"
   ]
  },
  {
   "cell_type": "markdown",
   "id": "00a410bf",
   "metadata": {},
   "source": [
    "Combine two lists into a dictionary"
   ]
  },
  {
   "cell_type": "code",
   "execution_count": 13,
   "id": "a7d3c907",
   "metadata": {},
   "outputs": [
    {
     "name": "stdout",
     "output_type": "stream",
     "text": [
      "<zip object at 0x7f95eab7a780>\n"
     ]
    }
   ],
   "source": [
    "drinks = [\"espresso\", \"chai\", \"decaf\", \"drip\"]\n",
    "caffeine = [64, 40, 0, 120]\n",
    "\n",
    "#Create an iterator of pairs between drinks and caffeine:\n",
    "zipped_drinks = zip(drinks,caffeine)\n",
    "print(zipped_drinks)\n",
    "\n",
    "#Create a dictionary called drinks_to_caffeine by using a dict comprehension that goes through the zipped_drinks iterator and turns each tuple pair into a key:value item.\n",
    "drinks_to_caffeine = {key:value for key,value in zipped_drinks}"
   ]
  },
  {
   "cell_type": "markdown",
   "id": "0f52e93c",
   "metadata": {},
   "source": [
    "1.\n",
    "We are building a music streaming service. We have provided two lists, representing songs in a user’s library and the amount of times each song has been played.\n",
    "\n",
    "Using a dict comprehension, create a dictionary called plays that goes through zip(songs, playcounts) and creates a song:playcount pair for each song in songs and each playcount in playcounts."
   ]
  },
  {
   "cell_type": "code",
   "execution_count": 14,
   "id": "6e2348a8",
   "metadata": {},
   "outputs": [
    {
     "name": "stdout",
     "output_type": "stream",
     "text": [
      "{'The Best Songs': {'Like a Rolling Stone': 78, 'Satisfaction': 29, 'Imagine': 44, \"What's Going On\": 21, 'Respect': 94, 'Good Vibrations': 5, 'Purple Haze': 1}, 'Sunday Feelings': {}}\n"
     ]
    }
   ],
   "source": [
    "songs = [\"Like a Rolling Stone\", \"Satisfaction\", \"Imagine\", \"What's Going On\", \"Respect\", \"Good Vibrations\"]\n",
    "playcounts = [78, 29, 44, 21, 89, 5]\n",
    "\n",
    "plays = {song:playcount for [song, playcount] in zip(songs, playcounts)} \n",
    "#loop through the combined lists\n",
    "\n",
    "plays[\"Respect\"] = 94\n",
    "#update value to 94\n",
    "\n",
    "plays[\"Purple Haze\"] = 1\n",
    "#add new key&value\n",
    "\n",
    "library = {\"The Best Songs\": plays, \"Sunday Feelings\": {}}\n",
    "#two key&value pairs\n",
    "\n",
    "print(library)"
   ]
  },
  {
   "cell_type": "markdown",
   "id": "0844c274",
   "metadata": {},
   "source": [
    "9.4 Write a program to read through the mbox-short.txt and figure out who has sent the greatest number of mail messages. The program looks for 'From ' lines and takes the second word of those lines as the person who sent the mail. The program creates a Python dictionary that maps the sender's mail address to a count of the number of times they appear in the file. After the dictionary is produced, the program reads through the dictionary using a maximum loop to find the most prolific committer."
   ]
  },
  {
   "cell_type": "code",
   "execution_count": null,
   "id": "613efc8c",
   "metadata": {},
   "outputs": [],
   "source": [
    "fname = input(\"Enter file name\")        \n",
    "fh = open(fname)     \n",
    "counts = dict()                        #Make a dictionary\n",
    "lst = []                               #Make a list\n",
    "for line in fh:                        #Loop line\n",
    "    if not line.startswith(\"From \"):   #Use 'continue'to skip\n",
    "        continue\n",
    "    line = line.rstrip().split()       #Split lines\n",
    "    emails = line[1]                   #Takes the 2ed word of those lines\n",
    "    lst.append(emails)\n",
    "for email in lst:\n",
    "    counts[email] = counts.get(email, 0) +1\n",
    "print(emails, counts[email])"
   ]
  },
  {
   "cell_type": "code",
   "execution_count": 15,
   "id": "a1458d38",
   "metadata": {},
   "outputs": [
    {
     "name": "stdout",
     "output_type": "stream",
     "text": [
      "Wed\n"
     ]
    }
   ],
   "source": [
    "days = ('Mon', 'Tue', 'Wed', 'Thu', 'Fri', 'Sat', 'Sun')\n",
    "print(days[2])"
   ]
  },
  {
   "cell_type": "code",
   "execution_count": 16,
   "id": "c66a2593",
   "metadata": {},
   "outputs": [
    {
     "name": "stdout",
     "output_type": "stream",
     "text": [
      "colours\n",
      "fruit\n",
      "species\n"
     ]
    }
   ],
   "source": [
    "example = {'colours':'red','fruit':'aapple','species':'dog'}\n",
    "for thing in example:\n",
    "    print(thing)        #loop key directly"
   ]
  },
  {
   "cell_type": "code",
   "execution_count": 17,
   "id": "387c943b",
   "metadata": {},
   "outputs": [
    {
     "name": "stdout",
     "output_type": "stream",
     "text": [
      "colours _ red\n",
      "fruit _ aapple\n",
      "species _ dog\n"
     ]
    }
   ],
   "source": [
    "example = {'colours':'red','fruit':'aapple','species':'dog'}\n",
    "for key in example:\n",
    "    print(key, '_', example[key])"
   ]
  },
  {
   "cell_type": "code",
   "execution_count": 18,
   "id": "275af6ec",
   "metadata": {},
   "outputs": [
    {
     "name": "stdout",
     "output_type": "stream",
     "text": [
      "{'living room': 21, 'kitchen': 23, 'bedroom': 20, 'pantry': 22}\n"
     ]
    }
   ],
   "source": [
    "#Add new thing in dictionary\n",
    "sensors =  {\"living room\": 21, \"kitchen\": 23, \"bedroom\": 20}\n",
    "\n",
    "sensors['pantry'] = 22\n",
    "print(sensors)"
   ]
  },
  {
   "cell_type": "code",
   "execution_count": 19,
   "id": "17bac04c",
   "metadata": {},
   "outputs": [
    {
     "name": "stdout",
     "output_type": "stream",
     "text": [
      "energy is not in the dictionary.\n"
     ]
    }
   ],
   "source": [
    "#Use if to check if the key is in dictionary first\n",
    "A = {'colour':'green','food':'bread','country':'UK'}\n",
    "key_to_check = 'energy'\n",
    "if key_to_check in A:\n",
    "    print(A['energy'])\n",
    "else:\n",
    "    print('energy is not in the dictionary.')"
   ]
  },
  {
   "cell_type": "markdown",
   "id": "78a532ac",
   "metadata": {},
   "source": [
    "EG: We saw that we can avoid KeyErrors by checking if a key is in a dictionary first. Another method we could use is a try/except:"
   ]
  },
  {
   "cell_type": "markdown",
   "id": "cb235d3b",
   "metadata": {},
   "source": [
    "1.\n",
    "Use a try block to try to print the caffeine level of \"matcha\". If there is a KeyError, print \"Unknown Caffeine Level\".\n",
    "\n",
    "2.\n",
    "Above the try block, add \"matcha\" to the dictionary with a value of 30."
   ]
  },
  {
   "cell_type": "code",
   "execution_count": 20,
   "id": "4be18d2d",
   "metadata": {},
   "outputs": [
    {
     "name": "stdout",
     "output_type": "stream",
     "text": [
      "30\n"
     ]
    }
   ],
   "source": [
    "caffeine_level = {\"espresso\": 64, \"chai\": 40, \"decaf\": 0, \"drip\": 120}\n",
    "\n",
    "caffeine_level['matcha'] = 30      #Add 'matcha'to the dictionary with a value of 30\n",
    "\n",
    "try:\n",
    "  print(caffeine_level['matcha'])\n",
    "except KeyError:\n",
    "  print(\"Unknown Caffeine Level\")"
   ]
  },
  {
   "cell_type": "markdown",
   "id": "095a50e0",
   "metadata": {},
   "source": [
    "EG: Use .get() to get the value of \"superStackSmash\"‘s user ID, with 100000 as a default value if the user doesn’t exist. Store it in a variable called stack_id. Print stack_id to the console."
   ]
  },
  {
   "cell_type": "code",
   "execution_count": 21,
   "id": "3ca530e5",
   "metadata": {},
   "outputs": [
    {
     "name": "stdout",
     "output_type": "stream",
     "text": [
      "stack_id\n"
     ]
    }
   ],
   "source": [
    "user_ids = {\"teraCoder\": 100019, \"pythonGuy\": 182921, \"samTheJavaMaam\": 123112, \"lyleLoop\": 102931, \"keysmithKeith\": 129384}\n",
    "stack_id = user_ids.get('superStackSmash',100000)\n",
    "print('stack_id')"
   ]
  },
  {
   "cell_type": "code",
   "execution_count": 22,
   "id": "ea1f7032",
   "metadata": {},
   "outputs": [
    {
     "name": "stdout",
     "output_type": "stream",
     "text": [
      "['hamburger', 'fries', 'soda']\n"
     ]
    }
   ],
   "source": [
    "combo_meals = {1: [\"hamburger\", \"fries\"], 2: [\"hamburger\", \"fries\", \"soda\"], 4: [\"veggie burger\", \"salad\", \"soda\"], 6: [\"hot dog\", \"apple slices\", \"orange juice\"]}\n",
    "print(combo_meals[2])       #represents the key"
   ]
  },
  {
   "cell_type": "code",
   "execution_count": 23,
   "id": "4ea6603f",
   "metadata": {},
   "outputs": [
    {
     "name": "stdout",
     "output_type": "stream",
     "text": [
      "['hamburger', 'fries']\n"
     ]
    }
   ],
   "source": [
    "#get:3 is not the key, so it returns to the value\n",
    "combo_meals = {1: [\"hamburger\", \"fries\"], 2: [\"hamburger\", \"fries\", \"soda\"], 4: [\"veggie burger\", \"salad\", \"soda\"], 6: [\"hot dog\", \"apple slices\", \"orange juice\"]}\n",
    "print(combo_meals.get(3, [\"hamburger\", \"fries\"]))"
   ]
  },
  {
   "cell_type": "code",
   "execution_count": 24,
   "id": "bdbb2c54",
   "metadata": {},
   "outputs": [
    {
     "name": "stdout",
     "output_type": "stream",
     "text": [
      "20\n"
     ]
    }
   ],
   "source": [
    "inventory = {\"iron spear\": 12, \"invisible knife\": 30, \"needle of ambition\": 10, \"stone glove\": 20, \"the peacemaker\": 65, \"demonslayer\": 50}\n",
    "print(inventory.get(\"stone glove\", 30)) \n",
    "#return to the value of 20"
   ]
  },
  {
   "cell_type": "code",
   "execution_count": 25,
   "id": "db02ac3e",
   "metadata": {},
   "outputs": [
    {
     "name": "stdout",
     "output_type": "stream",
     "text": [
      "False\n"
     ]
    }
   ],
   "source": [
    "inventory = {\"iron spear\": 12, \"invisible knife\": 30, \"needle of ambition\": 10, \"stone glove\": 20, \"the peacemaker\": 65, \"demonslayer\": 50}\n",
    " \n",
    "print(12 in inventory)\n",
    "#checks if the 12 is existed as a key in the dictionary."
   ]
  },
  {
   "cell_type": "code",
   "execution_count": null,
   "id": "843ff594",
   "metadata": {},
   "outputs": [],
   "source": []
  }
 ],
 "metadata": {
  "kernelspec": {
   "display_name": "Python 3 (ipykernel)",
   "language": "python",
   "name": "python3"
  },
  "language_info": {
   "codemirror_mode": {
    "name": "ipython",
    "version": 3
   },
   "file_extension": ".py",
   "mimetype": "text/x-python",
   "name": "python",
   "nbconvert_exporter": "python",
   "pygments_lexer": "ipython3",
   "version": "3.9.7"
  }
 },
 "nbformat": 4,
 "nbformat_minor": 5
}
